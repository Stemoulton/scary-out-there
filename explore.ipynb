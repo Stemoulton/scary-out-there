{
 "cells": [
  {
   "cell_type": "code",
   "execution_count": 88,
   "metadata": {},
   "outputs": [],
   "source": [
    "import pandas as pd\n",
    "import pathlib\n",
    "import re\n",
    "import json"
   ]
  },
  {
   "cell_type": "code",
   "execution_count": 63,
   "metadata": {},
   "outputs": [],
   "source": [
    "MONSTERS = ['Ghouls', 'Ghosts', 'Vampires', 'Zombies', 'Witches', 'Trolls', 'Ghoul', 'Ghost', 'Vampire', 'Zombie', 'Witch', 'Troll']\n",
    "monster_str = '|'.join(MONSTERS)"
   ]
  },
  {
   "cell_type": "code",
   "execution_count": 64,
   "metadata": {},
   "outputs": [],
   "source": [
    "with open('data/bat-cave.txt', 'r') as f:\n",
    "    data_txt = f.read()"
   ]
  },
  {
   "cell_type": "code",
   "execution_count": 65,
   "metadata": {},
   "outputs": [
    {
     "data": {
      "text/plain": [
       "'Lorem ipsum dolor sit amet, consectetur adipiscing elit. Suspendisse iaculis venenatis dignissim. Mauris non est lacus. Sed feugiat a arcu nec rhoncus. 4 witches are playing around in the bat cave. Fusce suscipit quis tellus volutpat gravida. Sed non sem sed sapien mattis venenatis. Curabitur facilisis nunc at tellus egestas lobortis. Nunc porta vel dolor aliquet tempus. Suspendisse efficitur lectus nec nibh auctor, non vestibulum massa aliquet. Vivamus auctor leo lectus, vel luctus arcu finibus a. Mauris lobortis maximus tortor eu accumsan. Pellentesque vulputate non mi id rutrum. Pellentesque habitant morbi tristique senectus et netus et malesuada fames ac turpis egestas. Nullam ut neque ut elit laoreet vestibulum quis sed nisl. 2 witches come along to help the fight.\\n\\nNunc porta eros sed urna placerat pellentesque. Sed porttitor suscipit dolor, et eleifend augue ultricies vitae. Suspendisse quis augue eu lorem aliquet ultrices ut vitae nibh. Pellentesque augue tellus, ultrices at lorem id, dapibus semper nibh. Morbi velit mauris, ullamcorper at efficitur vel, aliquam vitae orci. Vestibulum tristique, neque vitae pulvinar fringilla, neque odio dapibus metus, vel cursus sem leo ac mauris. Nunc ac augue in dui volutpat sagittis sed non enim. Lorem ipsum dolor sit amet, consectetur adipiscing elit. Integer vitae erat id dui tempus vestibulum id vel velit. Donec pulvinar aliquet nisi, non volutpat tellus accumsan at. Etiam feugiat ut nunc vulputate tristique. Nunc hendrerit eget leo facilisis placerat. Later 10 Ghosts fly into\\xa0 the cave.\\n\\nDonec sollicitudin sit amet lorem vel dignissim. Aliquam molestie nibh ut ex pretium, in mattis magna iaculis. Etiam a mauris id libero hendrerit venenatis. Suspendisse sed purus dui. Ut aliquam vestibulum augue, suscipit scelerisque magna varius eu. We can look around and\\xa0 see 9 Ghouls playing in the\\xa0 corner. Praesent molestie placerat dolor. Ut bibendum lacus et lacus ornare, id maximus neque lacinia. Aenean mattis aliquet fermentum. In sapien lorem, ultricies et nunc non, vestibulum ultrices augue. Donec varius pharetra nunc quis laoreet. Fusce sed commodo arcu. Nam nibh erat, bibendum id augue ut, malesuada vulputate eros. Sed efficitur condimentum efficitur. Aliquam congue non est sit amet tristique.\\n'"
      ]
     },
     "execution_count": 65,
     "metadata": {},
     "output_type": "execute_result"
    }
   ],
   "source": [
    "data_txt"
   ]
  },
  {
   "cell_type": "code",
   "execution_count": 66,
   "metadata": {},
   "outputs": [
    {
     "data": {
      "text/plain": [
       "['4', '2', '10', '9']"
      ]
     },
     "execution_count": 66,
     "metadata": {},
     "output_type": "execute_result"
    }
   ],
   "source": [
    "x = re.findall(rf'(\\d+)\\s+[{monster_str}]', data_txt, re.IGNORECASE)\n",
    "x"
   ]
  },
  {
   "cell_type": "code",
   "execution_count": 67,
   "metadata": {},
   "outputs": [],
   "source": [
    "def count_monsters(text):\n",
    "    count_str = re.findall(rf'(\\d+)\\s+[{monster_str}]', text, re.IGNORECASE)\n",
    "    return sum([int(x) for x in count_str])\n",
    "\n"
   ]
  },
  {
   "cell_type": "code",
   "execution_count": 68,
   "metadata": {},
   "outputs": [
    {
     "data": {
      "text/html": [
       "<div>\n",
       "<style scoped>\n",
       "    .dataframe tbody tr th:only-of-type {\n",
       "        vertical-align: middle;\n",
       "    }\n",
       "\n",
       "    .dataframe tbody tr th {\n",
       "        vertical-align: top;\n",
       "    }\n",
       "\n",
       "    .dataframe thead th {\n",
       "        text-align: right;\n",
       "    }\n",
       "</style>\n",
       "<table border=\"1\" class=\"dataframe\">\n",
       "  <thead>\n",
       "    <tr style=\"text-align: right;\">\n",
       "      <th></th>\n",
       "      <th>monster</th>\n",
       "      <th>amount</th>\n",
       "      <th>description</th>\n",
       "    </tr>\n",
       "  </thead>\n",
       "  <tbody>\n",
       "    <tr>\n",
       "      <th>0</th>\n",
       "      <td>Witch</td>\n",
       "      <td>5</td>\n",
       "      <td>All the witches are laughing in the hall</td>\n",
       "    </tr>\n",
       "    <tr>\n",
       "      <th>1</th>\n",
       "      <td>Ghoul</td>\n",
       "      <td>5</td>\n",
       "      <td>The trolls are partying with the ghouls in the...</td>\n",
       "    </tr>\n",
       "    <tr>\n",
       "      <th>2</th>\n",
       "      <td>Troll</td>\n",
       "      <td>5</td>\n",
       "      <td>Troll love it in the  kitchen</td>\n",
       "    </tr>\n",
       "    <tr>\n",
       "      <th>3</th>\n",
       "      <td>Zombies</td>\n",
       "      <td>99</td>\n",
       "      <td>Someone locked the Zombies in the basement, pl...</td>\n",
       "    </tr>\n",
       "    <tr>\n",
       "      <th>4</th>\n",
       "      <td>Bat</td>\n",
       "      <td>50</td>\n",
       "      <td>The attic is just full of bats</td>\n",
       "    </tr>\n",
       "    <tr>\n",
       "      <th>5</th>\n",
       "      <td>Troll</td>\n",
       "      <td>1</td>\n",
       "      <td>There a Troll in the dungeon!</td>\n",
       "    </tr>\n",
       "  </tbody>\n",
       "</table>\n",
       "</div>"
      ],
      "text/plain": [
       "   monster  amount                                        description\n",
       "0    Witch       5           All the witches are laughing in the hall\n",
       "1    Ghoul       5  The trolls are partying with the ghouls in the...\n",
       "2    Troll       5                      Troll love it in the  kitchen\n",
       "3  Zombies      99  Someone locked the Zombies in the basement, pl...\n",
       "4      Bat      50                     The attic is just full of bats\n",
       "5    Troll       1                      There a Troll in the dungeon!"
      ]
     },
     "execution_count": 68,
     "metadata": {},
     "output_type": "execute_result"
    }
   ],
   "source": [
    "df = pd.read_xml('data/scary-castle.xml')\n",
    "df"
   ]
  },
  {
   "cell_type": "code",
   "execution_count": 71,
   "metadata": {},
   "outputs": [],
   "source": [
    "def count_monsters(df):\n",
    "    return df[df.monster.str.contains(monster_str, case=False)].amount.sum()"
   ]
  },
  {
   "cell_type": "code",
   "execution_count": 107,
   "metadata": {},
   "outputs": [],
   "source": [
    "with open('data/scary-tomb.json', 'r') as f:\n",
    "    json_data = json.load(f)"
   ]
  },
  {
   "cell_type": "code",
   "execution_count": 114,
   "metadata": {},
   "outputs": [],
   "source": [
    "def count_monsters(data):\n",
    "    return sum(1 if isinstance(data[x], dict) else len(data[x]) for x in data.keys() if x.lower() in monster_str.lower())"
   ]
  },
  {
   "cell_type": "code",
   "execution_count": 117,
   "metadata": {},
   "outputs": [],
   "source": [
    "from pathlib import Path"
   ]
  },
  {
   "cell_type": "code",
   "execution_count": 122,
   "metadata": {},
   "outputs": [],
   "source": [
    "p = Path(\"data/\")"
   ]
  },
  {
   "cell_type": "code",
   "execution_count": 124,
   "metadata": {},
   "outputs": [],
   "source": [
    "f = list(p.glob('*.*'))[-1]"
   ]
  },
  {
   "cell_type": "code",
   "execution_count": 127,
   "metadata": {},
   "outputs": [
    {
     "data": {
      "text/plain": [
       "'.txt'"
      ]
     },
     "execution_count": 127,
     "metadata": {},
     "output_type": "execute_result"
    }
   ],
   "source": [
    "f.suffix"
   ]
  },
  {
   "cell_type": "code",
   "execution_count": null,
   "metadata": {},
   "outputs": [],
   "source": []
  }
 ],
 "metadata": {
  "kernelspec": {
   "display_name": "Python 3.9.7 ('base')",
   "language": "python",
   "name": "python3"
  },
  "language_info": {
   "codemirror_mode": {
    "name": "ipython",
    "version": 3
   },
   "file_extension": ".py",
   "mimetype": "text/x-python",
   "name": "python",
   "nbconvert_exporter": "python",
   "pygments_lexer": "ipython3",
   "version": "3.9.7"
  },
  "orig_nbformat": 4,
  "vscode": {
   "interpreter": {
    "hash": "9b1c68739faa90aec4b3f352bdcc785172745fa7270b0c9b704635f020498ac0"
   }
  }
 },
 "nbformat": 4,
 "nbformat_minor": 2
}
